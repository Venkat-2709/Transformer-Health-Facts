{
  "nbformat": 4,
  "nbformat_minor": 0,
  "metadata": {
    "colab": {
      "name": "TransferLearning.ipynb",
      "provenance": [],
      "collapsed_sections": []
    },
    "kernelspec": {
      "display_name": "Python 3",
      "name": "python3"
    },
    "language_info": {
      "name": "python"
    }
  },
  "cells": [
    {
      "cell_type": "markdown",
      "metadata": {
        "id": "N7MVcmYfkl9a"
      },
      "source": [
        "# Transfer Learning for Sorcero\n",
        "\n",
        "This is notebook for classifying the health facts dataset according to their claim with the evidences provided. To check for the correctness exceute the cells one by one. Download the dataset from https://drive.google.com/uc?export=download&id=1eTtRs5cUlBP5dXsx-FTAlmXuB6JQi2qj"
      ]
    },
    {
      "cell_type": "code",
      "metadata": {
        "colab": {
          "base_uri": "https://localhost:8080/"
        },
        "id": "7pFbPPHvi647",
        "outputId": "6a573149-2415-40b8-ef74-73f2bfa80e53"
      },
      "source": [
        "!unzip PUBHEALTH.zip\n",
        "!pip install transformers"
      ],
      "execution_count": null,
      "outputs": [
        {
          "name": "stdout",
          "output_type": "stream",
          "text": [
            "Archive:  PUBHEALTH.zip\n",
            "   creating: PUBHEALTH/\n",
            "  inflating: PUBHEALTH/train.tsv     \n",
            "  inflating: PUBHEALTH/dev.tsv       \n",
            "  inflating: PUBHEALTH/test.tsv      \n",
            "Requirement already satisfied: transformers in /usr/local/lib/python3.7/dist-packages (4.11.3)\n",
            "Requirement already satisfied: regex!=2019.12.17 in /usr/local/lib/python3.7/dist-packages (from transformers) (2019.12.20)\n",
            "Requirement already satisfied: sacremoses in /usr/local/lib/python3.7/dist-packages (from transformers) (0.0.46)\n",
            "Requirement already satisfied: tqdm>=4.27 in /usr/local/lib/python3.7/dist-packages (from transformers) (4.62.3)\n",
            "Requirement already satisfied: numpy>=1.17 in /usr/local/lib/python3.7/dist-packages (from transformers) (1.19.5)\n",
            "Requirement already satisfied: pyyaml>=5.1 in /usr/local/lib/python3.7/dist-packages (from transformers) (6.0)\n",
            "Requirement already satisfied: filelock in /usr/local/lib/python3.7/dist-packages (from transformers) (3.3.0)\n",
            "Requirement already satisfied: tokenizers<0.11,>=0.10.1 in /usr/local/lib/python3.7/dist-packages (from transformers) (0.10.3)\n",
            "Requirement already satisfied: huggingface-hub>=0.0.17 in /usr/local/lib/python3.7/dist-packages (from transformers) (0.0.19)\n",
            "Requirement already satisfied: requests in /usr/local/lib/python3.7/dist-packages (from transformers) (2.23.0)\n",
            "Requirement already satisfied: packaging>=20.0 in /usr/local/lib/python3.7/dist-packages (from transformers) (21.0)\n",
            "Requirement already satisfied: importlib-metadata in /usr/local/lib/python3.7/dist-packages (from transformers) (4.8.1)\n",
            "Requirement already satisfied: typing-extensions in /usr/local/lib/python3.7/dist-packages (from huggingface-hub>=0.0.17->transformers) (3.7.4.3)\n",
            "Requirement already satisfied: pyparsing>=2.0.2 in /usr/local/lib/python3.7/dist-packages (from packaging>=20.0->transformers) (2.4.7)\n",
            "Requirement already satisfied: zipp>=0.5 in /usr/local/lib/python3.7/dist-packages (from importlib-metadata->transformers) (3.6.0)\n",
            "Requirement already satisfied: certifi>=2017.4.17 in /usr/local/lib/python3.7/dist-packages (from requests->transformers) (2021.5.30)\n",
            "Requirement already satisfied: chardet<4,>=3.0.2 in /usr/local/lib/python3.7/dist-packages (from requests->transformers) (3.0.4)\n",
            "Requirement already satisfied: idna<3,>=2.5 in /usr/local/lib/python3.7/dist-packages (from requests->transformers) (2.10)\n",
            "Requirement already satisfied: urllib3!=1.25.0,!=1.25.1,<1.26,>=1.21.1 in /usr/local/lib/python3.7/dist-packages (from requests->transformers) (1.24.3)\n",
            "Requirement already satisfied: click in /usr/local/lib/python3.7/dist-packages (from sacremoses->transformers) (7.1.2)\n",
            "Requirement already satisfied: six in /usr/local/lib/python3.7/dist-packages (from sacremoses->transformers) (1.15.0)\n",
            "Requirement already satisfied: joblib in /usr/local/lib/python3.7/dist-packages (from sacremoses->transformers) (1.0.1)\n"
          ]
        }
      ]
    },
    {
      "cell_type": "code",
      "metadata": {
        "colab": {
          "base_uri": "https://localhost:8080/"
        },
        "id": "Xjvz-1lCjPpu",
        "outputId": "55b81b42-cd30-4a65-8fb2-23a2207cf84b"
      },
      "source": [
        "# Importing Libraries.\n",
        "import numpy as np\n",
        "import pandas as pd\n",
        "import re\n",
        "import string\n",
        "import nltk\n",
        "import tensorflow as tf\n",
        "\n",
        "nltk.download('punkt')\n",
        "nltk.download('stopwords')\n",
        "nltk.download('wordnet')\n",
        "\n",
        "from sklearn.preprocessing import LabelEncoder\n",
        "from nltk.stem import WordNetLemmatizer\n",
        "from transformers import AutoTokenizer, TFAutoModelForSequenceClassification, DistilBertConfig, TFDistilBertForSequenceClassification, RobertaTokenizer, RobertaForSequenceClassification\n",
        "\n",
        "import warnings\n",
        "warnings.filterwarnings(\"ignore\")"
      ],
      "execution_count": 26,
      "outputs": [
        {
          "output_type": "stream",
          "name": "stdout",
          "text": [
            "[nltk_data] Downloading package punkt to /root/nltk_data...\n",
            "[nltk_data]   Package punkt is already up-to-date!\n",
            "[nltk_data] Downloading package stopwords to /root/nltk_data...\n",
            "[nltk_data]   Package stopwords is already up-to-date!\n",
            "[nltk_data] Downloading package wordnet to /root/nltk_data...\n",
            "[nltk_data]   Package wordnet is already up-to-date!\n"
          ]
        }
      ]
    },
    {
      "cell_type": "code",
      "metadata": {
        "id": "A4dJcm0Zja59"
      },
      "source": [
        "# Reading the Dataset\n",
        "train_dataset = pd.read_csv('PUBHEALTH/train.tsv', sep='\\t', header=0)\n",
        "valid_dataset = pd.read_csv('PUBHEALTH/dev.tsv', sep='\\t', header=0)\n",
        "test_dataset = pd.read_csv('PUBHEALTH/test.tsv', sep='\\t', header=0)"
      ],
      "execution_count": 2,
      "outputs": []
    },
    {
      "cell_type": "code",
      "metadata": {
        "colab": {
          "base_uri": "https://localhost:8080/"
        },
        "id": "Ngrm4mpKjdMY",
        "outputId": "e2250a59-ed60-49b0-f23c-614dd63f15be"
      },
      "source": [
        "train_dataset.shape, valid_dataset.shape, test_dataset.shape"
      ],
      "execution_count": 3,
      "outputs": [
        {
          "output_type": "execute_result",
          "data": {
            "text/plain": [
              "((9832, 9), (1221, 9), (1235, 10))"
            ]
          },
          "metadata": {},
          "execution_count": 3
        }
      ]
    },
    {
      "cell_type": "code",
      "metadata": {
        "id": "ODohLdTGjgH1"
      },
      "source": [
        "# Function to explore the types of data and missing values in the dataset\n",
        "def data_explore(data):\n",
        "    print('Number of inputs in data: ' + str(len(data)))\n",
        "    print('Number of missing value in each column: \\n', data.isnull().sum())\n",
        "    \n",
        "    data['label'].value_counts().plot(kind='bar', title='Target Distribution')\n",
        "        \n",
        "    fc_percent = ((data['fact_checkers'].isnull().sum()) / len(data)) * 100\n",
        "    sub_percent = float(((data['subjects'].isnull().sum()) / len(data)) * 100)\n",
        "    \n",
        "    print('Unique number of Fact Checkers: ', str(data['fact_checkers'].nunique()))\n",
        "    print('Unique number of Subjects: ', str(data['subjects'].nunique()))"
      ],
      "execution_count": 4,
      "outputs": []
    },
    {
      "cell_type": "code",
      "metadata": {
        "colab": {
          "base_uri": "https://localhost:8080/",
          "height": 557
        },
        "id": "ujAR9J5_jiu-",
        "outputId": "e9eeadc2-f426-4368-ad21-e7db005d3f27"
      },
      "source": [
        "data_explore(train_dataset)"
      ],
      "execution_count": 5,
      "outputs": [
        {
          "output_type": "stream",
          "name": "stdout",
          "text": [
            "Number of inputs in data: 9832\n",
            "Number of missing value in each column: \n",
            " claim_id             0\n",
            "claim                8\n",
            "date_published    1937\n",
            "explanation          8\n",
            "fact_checkers       11\n",
            "main_text           26\n",
            "sources             28\n",
            "label               27\n",
            "subjects            28\n",
            "dtype: int64\n",
            "Unique number of Fact Checkers:  1980\n",
            "Unique number of Subjects:  5811\n"
          ]
        },
        {
          "output_type": "display_data",
          "data": {
            "image/png": "[encoded data removed]",
            "text/plain": [
              "<Figure size 432x288 with 1 Axes>"
            ]
          },
          "metadata": {
            "needs_background": "light"
          }
        }
      ]
    },
    {
      "cell_type": "code",
      "metadata": {
        "colab": {
          "base_uri": "https://localhost:8080/",
          "height": 744
        },
        "id": "YLPDtYtcjkj3",
        "outputId": "8c1199ca-78c5-412a-fc96-242fd2934ae8"
      },
      "source": [
        "data_explore(valid_dataset)"
      ],
      "execution_count": 6,
      "outputs": [
        {
          "output_type": "stream",
          "name": "stdout",
          "text": [
            "Number of inputs in data: 1221\n",
            "Number of missing value in each column: \n",
            " claim_id            0\n",
            "claim               2\n",
            "date_published    245\n",
            "explanation         2\n",
            "fact_checkers       4\n",
            "main_text           4\n",
            "sources             5\n",
            "label               6\n",
            "subjects            7\n",
            "dtype: int64\n",
            "Unique number of Fact Checkers:  438\n",
            "Unique number of Subjects:  795\n"
          ]
        },
        {
          "output_type": "display_data",
          "data": {
            "image/png": "[encoded data removed]",
            "text/plain": [
              "<Figure size 432x288 with 1 Axes>"
            ]
          },
          "metadata": {
            "needs_background": "light"
          }
        }
      ]
    },
    {
      "cell_type": "code",
      "metadata": {
        "colab": {
          "base_uri": "https://localhost:8080/",
          "height": 574
        },
        "id": "EQ0QHJozjm-N",
        "outputId": "8418b1ab-5bbe-42e0-d73b-faf89f3e82df"
      },
      "source": [
        "data_explore(test_dataset)"
      ],
      "execution_count": 7,
      "outputs": [
        {
          "output_type": "stream",
          "name": "stdout",
          "text": [
            "Number of inputs in data: 1235\n",
            "Number of missing value in each column: \n",
            " Unnamed: 0          0\n",
            "claim_id            0\n",
            "claim               0\n",
            "date_published    226\n",
            "explanation         0\n",
            "fact_checkers       0\n",
            "main_text           0\n",
            "sources             0\n",
            "label               2\n",
            "subjects            2\n",
            "dtype: int64\n",
            "Unique number of Fact Checkers:  447\n",
            "Unique number of Subjects:  840\n"
          ]
        },
        {
          "output_type": "display_data",
          "data": {
            "image/png": "[encoded data removed]",
            "text/plain": [
              "<Figure size 432x288 with 1 Axes>"
            ]
          },
          "metadata": {
            "needs_background": "light"
          }
        }
      ]
    },
    {
      "cell_type": "markdown",
      "metadata": {
        "id": "6jbSmrcalNfu"
      },
      "source": [
        "# Data Cleaning\n",
        "\n",
        "Since the data contains lots of missing values and also contains classes other than the 4 labels. We are removing the rows which does not have claim or evidence and also replacing unknown label with unproven class."
      ]
    },
    {
      "cell_type": "code",
      "metadata": {
        "id": "vrx8Ve0kjo-i"
      },
      "source": [
        "def remove_missing(data):\n",
        "    data.at[data['label'][data['label'] == 'snopes'].index, 'label'] = 'unproven'\n",
        "    data.at[data['label'][data['label'] == 'National, Candidate Biography, Donald Trump, '].index, 'label'] = 'false'\n",
        "    \n",
        "    data = data[data['claim'].notna()]\n",
        "    \n",
        "    data.at[data['label'][data['label'].isna()].index, 'label'] = 'unproven'\n",
        "    \n",
        "    print('Number of inputs in data: ' + str(len(data)))\n",
        "    print('Number of missing value in each column: \\n', data.isnull().sum())\n",
        "    data['label'].value_counts().plot(kind='bar', title='Transformed Target Distribution')\n",
        "    \n",
        "    return data"
      ],
      "execution_count": 8,
      "outputs": []
    },
    {
      "cell_type": "code",
      "metadata": {
        "colab": {
          "base_uri": "https://localhost:8080/",
          "height": 523
        },
        "id": "KQ3X5SK4jrfC",
        "outputId": "e0d01cdb-0421-4074-aae2-235f7cef272c"
      },
      "source": [
        "train_dataset = remove_missing(train_dataset)"
      ],
      "execution_count": 9,
      "outputs": [
        {
          "output_type": "stream",
          "name": "stdout",
          "text": [
            "Number of inputs in data: 9824\n",
            "Number of missing value in each column: \n",
            " claim_id             0\n",
            "claim                0\n",
            "date_published    1929\n",
            "explanation          0\n",
            "fact_checkers        3\n",
            "main_text           18\n",
            "sources             20\n",
            "label                0\n",
            "subjects            20\n",
            "dtype: int64\n"
          ]
        },
        {
          "output_type": "display_data",
          "data": {
            "image/png": "[encoded data removed]",
            "text/plain": [
              "<Figure size 432x288 with 1 Axes>"
            ]
          },
          "metadata": {
            "needs_background": "light"
          }
        }
      ]
    },
    {
      "cell_type": "code",
      "metadata": {
        "colab": {
          "base_uri": "https://localhost:8080/",
          "height": 523
        },
        "id": "jHc-OaMWjtl1",
        "outputId": "00460d59-052f-4b1c-c527-0e6069f09a30"
      },
      "source": [
        "valid_dataset = remove_missing(valid_dataset)"
      ],
      "execution_count": 10,
      "outputs": [
        {
          "output_type": "stream",
          "name": "stdout",
          "text": [
            "Number of inputs in data: 1219\n",
            "Number of missing value in each column: \n",
            " claim_id            0\n",
            "claim               0\n",
            "date_published    243\n",
            "explanation         0\n",
            "fact_checkers       2\n",
            "main_text           2\n",
            "sources             3\n",
            "label               0\n",
            "subjects            5\n",
            "dtype: int64\n"
          ]
        },
        {
          "output_type": "display_data",
          "data": {
            "image/png": "[encoded data removed]",
            "text/plain": [
              "<Figure size 432x288 with 1 Axes>"
            ]
          },
          "metadata": {
            "needs_background": "light"
          }
        }
      ]
    },
    {
      "cell_type": "markdown",
      "metadata": {
        "id": "NJot03CmlpqZ"
      },
      "source": [
        "# Preprocessing the Text.\n",
        "\n",
        "For preprocessing the claim and evidence columns are used. `preprocess` function removes links, numbers, special characters. Also uses NLTK module to remove stopwords and lemmatization was done to these inputs."
      ]
    },
    {
      "cell_type": "code",
      "metadata": {
        "id": "z26sqDIEjvcD"
      },
      "source": [
        "# Preprocessing text into input format\n",
        "def preprocess(text):\n",
        "    # Removing emojis, emails, numbers\n",
        "    text = re.sub(r'^https?:\\/\\/.*[\\r\\n]*', '', text, flags=re.MULTILINE)\n",
        "    text = re.sub('<.*?>+', '', text)\n",
        "    \n",
        "    regrex_pattern = re.compile(pattern = \"[\"\n",
        "        u\"\\U0001F600-\\U0001F64F\" \n",
        "        u\"\\U0001F300-\\U0001F5FF\"  \n",
        "        u\"\\U0001F680-\\U0001F6FF\"  \n",
        "        u\"\\U0001F1E0-\\U0001F1FF\"  \n",
        "                           \"]+\", flags = re.UNICODE)\n",
        "    \n",
        "    text = regrex_pattern.sub(r'',text)\n",
        "    text = ''.join([i for i in text if not i.isdigit()])\n",
        "    \n",
        "    # Removing Punctuation from the text\n",
        "    punct = [words for words in text if words not in string.punctuation ]\n",
        "    words = ''.join(punct)\n",
        "    \n",
        "    # Tokenizing the text\n",
        "    tokens = nltk.word_tokenize(words)\n",
        "    \n",
        "    # Removing the stopwords\n",
        "    stopwords = nltk.corpus.stopwords.words('english')\n",
        "    for s_words in ['true', 'false', 'mixture', 'unproven']:\n",
        "        stopwords.append(s_words)\n",
        "    stop_tokens = [word for word in tokens if word not in stopwords]\n",
        "    stop_tokens = [word.lower() for word in stop_tokens]\n",
        "    \n",
        "    # Appying Lemmatization to the tokens\n",
        "    lemmatizer = WordNetLemmatizer()\n",
        "    lemmatized_output = ' '.join([lemmatizer.lemmatize(w) for w in stop_tokens])\n",
        "    \n",
        "    return lemmatized_output"
      ],
      "execution_count": 11,
      "outputs": []
    },
    {
      "cell_type": "code",
      "metadata": {
        "id": "z2FBLRKSjxzx"
      },
      "source": [
        "train_dataset['claim'] = train_dataset['claim'].apply(lambda x: preprocess(x))\n",
        "train_dataset['explanation'] = train_dataset['explanation'].apply(lambda x: preprocess(x))"
      ],
      "execution_count": 12,
      "outputs": []
    },
    {
      "cell_type": "code",
      "metadata": {
        "id": "AOqaiBYxjzy0"
      },
      "source": [
        "valid_dataset['claim'] = valid_dataset['claim'].apply(lambda x: preprocess(x))\n",
        "valid_dataset['explanation'] = valid_dataset['explanation'].apply(lambda x: preprocess(x))"
      ],
      "execution_count": 13,
      "outputs": []
    },
    {
      "cell_type": "code",
      "metadata": {
        "id": "9d_Sh9PDj17Q"
      },
      "source": [
        "test_dataset['claim'] = test_dataset['claim'].apply(lambda x: preprocess(x))\n",
        "test_dataset['explanation'] = test_dataset['explanation'].apply(lambda x: preprocess(x))"
      ],
      "execution_count": 14,
      "outputs": []
    },
    {
      "cell_type": "code",
      "metadata": {
        "id": "Q5OCXbq8j38U"
      },
      "source": [
        "proc_train = train_dataset[['claim', 'explanation', 'label']]\n",
        "proc_valid = valid_dataset[['claim', 'explanation', 'label']]\n",
        "proc_test = test_dataset[['claim', 'explanation', 'label']]"
      ],
      "execution_count": 15,
      "outputs": []
    },
    {
      "cell_type": "code",
      "metadata": {
        "colab": {
          "base_uri": "https://localhost:8080/"
        },
        "id": "2i4LEcUPj6c9",
        "outputId": "e96a39d9-2b92-4dd1-9503-8cd5cc1194c2"
      },
      "source": [
        "proc_train.shape, proc_valid.shape, proc_test.shape"
      ],
      "execution_count": 16,
      "outputs": [
        {
          "output_type": "execute_result",
          "data": {
            "text/plain": [
              "((9824, 3), (1219, 3), (1235, 3))"
            ]
          },
          "metadata": {},
          "execution_count": 16
        }
      ]
    },
    {
      "cell_type": "code",
      "metadata": {
        "colab": {
          "base_uri": "https://localhost:8080/",
          "height": 204
        },
        "id": "EgeB7ObBj9F9",
        "outputId": "5323f794-34d4-4a46-91cb-d336330ccd9a"
      },
      "source": [
        "proc_train.head()"
      ],
      "execution_count": 17,
      "outputs": [
        {
          "output_type": "execute_result",
          "data": {
            "text/html": [
              "<div>\n",
              "<style scoped>\n",
              "    .dataframe tbody tr th:only-of-type {\n",
              "        vertical-align: middle;\n",
              "    }\n",
              "\n",
              "    .dataframe tbody tr th {\n",
              "        vertical-align: top;\n",
              "    }\n",
              "\n",
              "    .dataframe thead th {\n",
              "        text-align: right;\n",
              "    }\n",
              "</style>\n",
              "<table border=\"1\" class=\"dataframe\">\n",
              "  <thead>\n",
              "    <tr style=\"text-align: right;\">\n",
              "      <th></th>\n",
              "      <th>claim</th>\n",
              "      <th>explanation</th>\n",
              "      <th>label</th>\n",
              "    </tr>\n",
              "  </thead>\n",
              "  <tbody>\n",
              "    <tr>\n",
              "      <th>0</th>\n",
              "      <td>the money clinton foundation took foreign gove...</td>\n",
              "      <td>gingrich said clinton foundation took money fo...</td>\n",
              "      <td>false</td>\n",
              "    </tr>\n",
              "    <tr>\n",
              "      <th>1</th>\n",
              "      <td>annual mammogram may have more falsepositives</td>\n",
              "      <td>this article report result study nearly woman ...</td>\n",
              "      <td>mixture</td>\n",
              "    </tr>\n",
              "    <tr>\n",
              "      <th>2</th>\n",
              "      <td>sbrt offer prostate cancer patient high cancer...</td>\n",
              "      <td>this news release describes fiveyear outcome m...</td>\n",
              "      <td>mixture</td>\n",
              "    </tr>\n",
              "    <tr>\n",
              "      <th>3</th>\n",
              "      <td>study vaccine breast ovarian cancer ha potential</td>\n",
              "      <td>while story many thing well overall framing st...</td>\n",
              "      <td>true</td>\n",
              "    </tr>\n",
              "    <tr>\n",
              "      <th>4</th>\n",
              "      <td>some appendicitis case may require ’ emergency...</td>\n",
              "      <td>we really ’ understand handful mainstream news...</td>\n",
              "      <td>true</td>\n",
              "    </tr>\n",
              "  </tbody>\n",
              "</table>\n",
              "</div>"
            ],
            "text/plain": [
              "                                               claim  ...    label\n",
              "0  the money clinton foundation took foreign gove...  ...    false\n",
              "1      annual mammogram may have more falsepositives  ...  mixture\n",
              "2  sbrt offer prostate cancer patient high cancer...  ...  mixture\n",
              "3   study vaccine breast ovarian cancer ha potential  ...     true\n",
              "4  some appendicitis case may require ’ emergency...  ...     true\n",
              "\n",
              "[5 rows x 3 columns]"
            ]
          },
          "metadata": {},
          "execution_count": 17
        }
      ]
    },
    {
      "cell_type": "code",
      "metadata": {
        "colab": {
          "base_uri": "https://localhost:8080/"
        },
        "id": "Udz6v2T4eZsG",
        "outputId": "914975a8-9ebc-4b7d-f4f1-3882e6286745"
      },
      "source": [
        "y_train"
      ],
      "execution_count": 79,
      "outputs": [
        {
          "output_type": "execute_result",
          "data": {
            "text/plain": [
              "array([0, 1, 1, ..., 2, 0, 0])"
            ]
          },
          "metadata": {},
          "execution_count": 79
        }
      ]
    },
    {
      "cell_type": "code",
      "metadata": {
        "id": "fvWefbUTmebl"
      },
      "source": [
        "def input_text(claim, evidence):\n",
        "  return [claim, evidence]"
      ],
      "execution_count": 18,
      "outputs": []
    },
    {
      "cell_type": "code",
      "metadata": {
        "id": "DK4oWHCknTdR"
      },
      "source": [
        "proc_train['text'] = proc_train.apply(lambda x: input_text(x.claim, x.explanation), axis=1)\n",
        "proc_valid['text'] = proc_valid.apply(lambda x: input_text(x.claim, x.explanation), axis=1)\n",
        "proc_test['text'] = proc_test.apply(lambda x: input_text(x.claim, x.explanation), axis=1)"
      ],
      "execution_count": 19,
      "outputs": []
    },
    {
      "cell_type": "code",
      "metadata": {
        "id": "J2laswhZ-wE0"
      },
      "source": [
        "proc_test = proc_test[proc_test['label'].notna()]"
      ],
      "execution_count": 20,
      "outputs": []
    },
    {
      "cell_type": "code",
      "metadata": {
        "id": "9vqjKyxhw0Se"
      },
      "source": [
        "encoding = LabelEncoder()\n",
        "y_train = encoding.fit_transform(proc_train['label'])\n",
        "y_valid = encoding.fit_transform(proc_valid['label'])\n",
        "y_test = encoding.fit_transform(proc_test['label'])"
      ],
      "execution_count": 21,
      "outputs": []
    },
    {
      "cell_type": "markdown",
      "metadata": {
        "id": "GYVEZDUSmGrd"
      },
      "source": [
        "# DistilBert Model.\n",
        "\n",
        "For training of text Distilled Bert pretrained model is used. "
      ]
    },
    {
      "cell_type": "code",
      "metadata": {
        "colab": {
          "base_uri": "https://localhost:8080/"
        },
        "id": "ulu7Nk8PvZH7",
        "outputId": "98c8aeee-f01a-4d7a-d2b3-28948df483be"
      },
      "source": [
        "config = DistilBertConfig(dropout=0.2, attention_dropout=0.2)\n",
        "config.output_hidden_states = False\n",
        "tokenizer = AutoTokenizer.from_pretrained('distilbert-base-uncased', max_seq_length=128)\n",
        "t_model = TFDistilBertForSequenceClassification.from_pretrained('distilbert-base-uncased', config=config)"
      ],
      "execution_count": 84,
      "outputs": [
        {
          "output_type": "stream",
          "name": "stderr",
          "text": [
            "Some layers from the model checkpoint at distilbert-base-uncased were not used when initializing TFDistilBertForSequenceClassification: ['vocab_layer_norm', 'vocab_projector', 'vocab_transform', 'activation_13']\n",
            "- This IS expected if you are initializing TFDistilBertForSequenceClassification from the checkpoint of a model trained on another task or with another architecture (e.g. initializing a BertForSequenceClassification model from a BertForPreTraining model).\n",
            "- This IS NOT expected if you are initializing TFDistilBertForSequenceClassification from the checkpoint of a model that you expect to be exactly identical (initializing a BertForSequenceClassification model from a BertForSequenceClassification model).\n",
            "Some layers of TFDistilBertForSequenceClassification were not initialized from the model checkpoint at distilbert-base-uncased and are newly initialized: ['classifier', 'pre_classifier', 'dropout_255']\n",
            "You should probably TRAIN this model on a down-stream task to be able to use it for predictions and inference.\n"
          ]
        }
      ]
    },
    {
      "cell_type": "code",
      "metadata": {
        "colab": {
          "base_uri": "https://localhost:8080/"
        },
        "id": "altFf9GQ2wlu",
        "outputId": "6def6719-a905-4efa-bb0f-e2db3e55dfc5"
      },
      "source": [
        "input_ids_in = tf.keras.layers.Input(shape=(128,), name='input_ids', dtype='int32')\n",
        "input_masks_in = tf.keras.layers.Input(shape=(128,), name='attention_mask', dtype='int32') \n",
        "embedding_layer = t_model(input_ids_in, attention_mask=input_masks_in)[0]\n",
        "X = tf.keras.layers.Dense(150, activation='relu')(embedding_layer)\n",
        "X = tf.keras.layers.Dense(50, activation='relu')(X)\n",
        "X = tf.keras.layers.Dropout(0.2)(X)\n",
        "X = tf.keras.layers.Dense(4, activation='sigmoid')(X)\n",
        "model = tf.keras.Model(inputs=[input_ids_in, input_masks_in], outputs = X)\n",
        "model.summary()\n",
        "model.compile(\n",
        "        optimizer=tf.keras.optimizers.Adam(learning_rate=1e-5, clipnorm=1.),\n",
        "        loss=tf.keras.losses.SparseCategoricalCrossentropy(),\n",
        "        metrics=[tf.metrics.SparseCategoricalAccuracy()],\n",
        "        )\n",
        " \n",
        "history=model.fit([encoder_train['input_ids'], encoder_train['attention_mask']], y_train, validation_data=([encoder_valid['input_ids'], encoder_valid['attention_mask']], y_valid), epochs=3, verbose=1)\n",
        "\n",
        "model.save_weights('./saved_weights1.h5')"
      ],
      "execution_count": 87,
      "outputs": [
        {
          "output_type": "stream",
          "name": "stdout",
          "text": [
            "Model: \"model_11\"\n",
            "__________________________________________________________________________________________________\n",
            "Layer (type)                    Output Shape         Param #     Connected to                     \n",
            "==================================================================================================\n",
            "input_ids (InputLayer)          [(None, 128)]        0                                            \n",
            "__________________________________________________________________________________________________\n",
            "attention_mask (InputLayer)     [(None, 128)]        0                                            \n",
            "__________________________________________________________________________________________________\n",
            "tf_distil_bert_for_sequence_cla TFSequenceClassifier 66955010    input_ids[0][0]                  \n",
            "                                                                 attention_mask[0][0]             \n",
            "__________________________________________________________________________________________________\n",
            "dense_25 (Dense)                (None, 150)          450         tf_distil_bert_for_sequence_class\n",
            "__________________________________________________________________________________________________\n",
            "dense_26 (Dense)                (None, 50)           7550        dense_25[0][0]                   \n",
            "__________________________________________________________________________________________________\n",
            "dropout_257 (Dropout)           (None, 50)           0           dense_26[0][0]                   \n",
            "__________________________________________________________________________________________________\n",
            "dense_27 (Dense)                (None, 4)            204         dropout_257[0][0]                \n",
            "==================================================================================================\n",
            "Total params: 66,963,214\n",
            "Trainable params: 66,963,214\n",
            "Non-trainable params: 0\n",
            "__________________________________________________________________________________________________\n",
            "Epoch 1/3\n",
            "307/307 [==============================] - 274s 863ms/step - loss: 1.1885 - sparse_categorical_accuracy: 0.3866 - val_loss: 1.0321 - val_sparse_categorical_accuracy: 0.5414\n",
            "Epoch 2/3\n",
            "307/307 [==============================] - 262s 854ms/step - loss: 0.9717 - sparse_categorical_accuracy: 0.5917 - val_loss: 0.8460 - val_sparse_categorical_accuracy: 0.6669\n",
            "Epoch 3/3\n",
            "307/307 [==============================] - 262s 854ms/step - loss: 0.8428 - sparse_categorical_accuracy: 0.6708 - val_loss: 0.8291 - val_sparse_categorical_accuracy: 0.6883\n"
          ]
        }
      ]
    },
    {
      "cell_type": "markdown",
      "metadata": {
        "id": "1LrVcwujmcle"
      },
      "source": [
        "# Prediction on test set\n",
        "\n",
        "Then the encoded test set is used for prediction and performance of the model is measured. \n",
        "``` Accuracy - 66% | Precision - 64%%  | Recall - 66%  | F1 Score - 63% ```"
      ]
    },
    {
      "cell_type": "code",
      "metadata": {
        "colab": {
          "base_uri": "https://localhost:8080/"
        },
        "id": "DTgrW0I_bNDL",
        "outputId": "2d27340c-90bf-4167-b655-e6e288260bd6"
      },
      "source": [
        "logits=model.predict(dict(encoder_test), verbose=1)\n",
        "prob=tf.nn.softmax(logits, axis=1).numpy()\n",
        "predictions=np.argmax(prob, axis=1)\n",
        "#confusion_matrix=tf.math.confusion_matrix([0, 1, 2, 3], predictions, num_classes=4)"
      ],
      "execution_count": 88,
      "outputs": [
        {
          "output_type": "stream",
          "name": "stdout",
          "text": [
            "39/39 [==============================] - 12s 258ms/step\n"
          ]
        }
      ]
    },
    {
      "cell_type": "code",
      "metadata": {
        "colab": {
          "base_uri": "https://localhost:8080/",
          "height": 483
        },
        "id": "xJk2jb9DdwZt",
        "outputId": "69479363-5d6f-4b99-dafb-905c784ae89f"
      },
      "source": [
        "from sklearn.metrics import classification_report, confusion_matrix, ConfusionMatrixDisplay\n",
        "\n",
        "report = classification_report(y_test, predictions, target_names=['False', 'Mixture', 'True', 'Unproven'])\n",
        "print(report)\n",
        "cm = confusion_matrix(y_true=y_test, y_pred=predictions)\n",
        "disp = ConfusionMatrixDisplay(confusion_matrix=cm, display_labels=['False', 'Mixture', 'True', 'Unproven'])\n",
        "disp.plot(values_format='d')"
      ],
      "execution_count": null,
      "outputs": [
        {
          "output_type": "stream",
          "name": "stdout",
          "text": [
            "              precision    recall  f1-score   support\n",
            "\n",
            "       False       0.53      0.78      0.63       388\n",
            "     Mixture       0.52      0.18      0.27       201\n",
            "        True       0.80      0.78      0.79       599\n",
            "    Unproven       0.00      0.00      0.00        45\n",
            "\n",
            "    accuracy                           0.66      1233\n",
            "   macro avg       0.46      0.44      0.42      1233\n",
            "weighted avg       0.64      0.66      0.63      1233\n",
            "\n"
          ]
        },
        {
          "output_type": "execute_result",
          "data": {
            "text/plain": [
              "<sklearn.metrics._plot.confusion_matrix.ConfusionMatrixDisplay at 0x7f0392e39250>"
            ]
          },
          "metadata": {},
          "execution_count": 89
        },
        {
          "output_type": "display_data",
          "data": {
            "image/png": "[encoded data removed]",
            "text/plain": [
              "<Figure size 432x288 with 2 Axes>"
            ]
          },
          "metadata": {
            "needs_background": "light"
          }
        }
      ]
    },
    {
      "cell_type": "code",
      "metadata": {
        "colab": {
          "base_uri": "https://localhost:8080/"
        },
        "id": "NDGpo_Y29YHT",
        "outputId": "e58884ea-5fba-4199-a208-df54d6fcd294"
      },
      "source": [
        "tokenizer = AutoTokenizer.from_pretrained(\"roberta-base\", max_seq_length=128)\n",
        "t_model = TFAutoModelForSequenceClassification.from_pretrained(\"roberta-base\", num_labels=4)"
      ],
      "execution_count": 90,
      "outputs": [
        {
          "output_type": "stream",
          "name": "stderr",
          "text": [
            "All model checkpoint layers were used when initializing TFRobertaForSequenceClassification.\n",
            "\n",
            "Some layers of TFRobertaForSequenceClassification were not initialized from the model checkpoint at roberta-base and are newly initialized: ['classifier']\n",
            "You should probably TRAIN this model on a down-stream task to be able to use it for predictions and inference.\n"
          ]
        }
      ]
    },
    {
      "cell_type": "code",
      "metadata": {
        "id": "Wfz7IjkfBvfP"
      },
      "source": [
        "encoder_train = tokenizer(list(proc_train['text']), return_tensors=\"tf\", padding=True, truncation=True, max_length=128)\n",
        "encoder_valid = tokenizer(list(proc_valid['text']), return_tensors=\"tf\", padding=True, truncation=True, max_length=128)\n",
        "encoder_test = tokenizer(list(proc_test['text']), return_tensors=\"tf\", padding=True, truncation=True, max_length=128)"
      ],
      "execution_count": 91,
      "outputs": []
    },
    {
      "cell_type": "code",
      "metadata": {
        "colab": {
          "base_uri": "https://localhost:8080/"
        },
        "id": "cPJ20nqkBho7",
        "outputId": "65f0a5a0-a687-4470-e95a-40934db4576d"
      },
      "source": [
        "input_ids_in = tf.keras.layers.Input(shape=(128,), name='input_ids', dtype='int32')\n",
        "input_masks_in = tf.keras.layers.Input(shape=(128,), name='attention_mask', dtype='int32') \n",
        "embedding_layer = t_model(input_ids_in, attention_mask=input_masks_in)[0]\n",
        "X = tf.keras.layers.Dense(100, activation='relu')(embedding_layer)\n",
        "X = tf.keras.layers.Dropout(0.2)(X)\n",
        "X = tf.keras.layers.Dense(4, activation='sigmoid')(X)\n",
        "model = tf.keras.Model(inputs=[input_ids_in, input_masks_in], outputs = X)\n",
        "model.summary()\n",
        "model.compile(\n",
        "        optimizer=tf.keras.optimizers.Adam(learning_rate=1e-5, clipnorm=1.),\n",
        "        loss=tf.keras.losses.SparseCategoricalCrossentropy(),\n",
        "        metrics=[tf.metrics.SparseCategoricalAccuracy()],\n",
        "        )\n",
        " \n",
        "history=model.fit([encoder_train['input_ids'], encoder_train['attention_mask']], y_train, validation_data=([encoder_valid['input_ids'], encoder_valid['attention_mask']], y_valid), epochs=3, verbose=1)\n",
        "\n",
        "model.save_weights('./saved_weights2.h5')"
      ],
      "execution_count": null,
      "outputs": [
        {
          "output_type": "stream",
          "name": "stdout",
          "text": [
            "Model: \"model_12\"\n",
            "__________________________________________________________________________________________________\n",
            "Layer (type)                    Output Shape         Param #     Connected to                     \n",
            "==================================================================================================\n",
            "input_ids (InputLayer)          [(None, 128)]        0                                            \n",
            "__________________________________________________________________________________________________\n",
            "attention_mask (InputLayer)     [(None, 128)]        0                                            \n",
            "__________________________________________________________________________________________________\n",
            "tf_roberta_for_sequence_classif TFSequenceClassifier 124648708   input_ids[0][0]                  \n",
            "                                                                 attention_mask[0][0]             \n",
            "__________________________________________________________________________________________________\n",
            "dense_28 (Dense)                (None, 100)          500         tf_roberta_for_sequence_classific\n",
            "__________________________________________________________________________________________________\n",
            "dropout_296 (Dropout)           (None, 100)          0           dense_28[0][0]                   \n",
            "__________________________________________________________________________________________________\n",
            "dense_29 (Dense)                (None, 4)            404         dropout_296[0][0]                \n",
            "==================================================================================================\n",
            "Total params: 124,649,612\n",
            "Trainable params: 124,649,612\n",
            "Non-trainable params: 0\n",
            "__________________________________________________________________________________________________\n",
            "Epoch 1/3\n"
          ]
        }
      ]
    },
    {
      "cell_type": "code",
      "metadata": {
        "id": "ZkFHxJybnrbt"
      },
      "source": [
        "logits=model.predict(dict(encoder_test), verbose=1)\n",
        "prob=tf.nn.softmax(logits, axis=1).numpy()\n",
        "predictions=np.argmax(prob, axis=1)\n",
        "#confusion_matrix=tf.math.confusion_matrix([0, 1, 2, 3], predictions, num_classes=4)"
      ],
      "execution_count": null,
      "outputs": []
    },
    {
      "cell_type": "code",
      "metadata": {
        "id": "pSmcBAJIn1uD"
      },
      "source": [
        "from sklearn.metrics import classification_report, confusion_matrix, ConfusionMatrixDisplay\n",
        "\n",
        "report_2 = classification_report(y_test, predictions, target_names=['False', 'Mixture', 'True', 'Unproven'])\n",
        "print(report_2)\n",
        "cm = confusion_matrix(y_true=y_test, y_pred=predictions)\n",
        "disp = ConfusionMatrixDisplay(confusion_matrix=cm, display_labels=['False', 'Mixture', 'True', 'Unproven'])\n",
        "disp.plot(values_format='d')"
      ],
      "execution_count": null,
      "outputs": []
    }
  ]
}